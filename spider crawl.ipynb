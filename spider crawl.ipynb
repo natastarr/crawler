{
  "nbformat": 4,
  "nbformat_minor": 0,
  "metadata": {
    "colab": {
      "provenance": []
    },
    "kernelspec": {
      "name": "python3",
      "display_name": "Python 3"
    },
    "language_info": {
      "name": "python"
    }
  },
  "cells": [
    {
      "cell_type": "markdown",
      "source": [
        "## Crawler code"
      ],
      "metadata": {
        "id": "LnDXwJeR8yJH"
      }
    },
    {
      "cell_type": "code",
      "source": [
        "import requests\n",
        "from bs4 import BeautifulSoup\n",
        "from collections import deque\n",
        "from IPython.display import Image, display\n",
        "import os\n",
        "import urllib\n",
        "import shutil\n",
        "\n",
        "# Extracting attributes\n",
        "def extract_text(soup, page):\n",
        "    text = soup.get_text()\n",
        "    num = int(input('How many words you want to see? '))\n",
        "    print('Text:', text.split()[:num])\n",
        "    with open('texts/' + str(page) + '/text.txt', 'w') as file:\n",
        "        file.write(' '.join(text.split()[:num]))\n",
        "\n",
        "\n",
        "\n",
        "# Extracting images\n",
        "def extract_images(soup, page):\n",
        "    images = soup.find_all('img')\n",
        "    i = 0\n",
        "    num = int(input('How many pictures you want to download? '))\n",
        "    for img in images:\n",
        "        i += 1\n",
        "        if i == num + 1: break\n",
        "        img_url = img['src']\n",
        "        if img_url[0] == img_url[1] == '/':\n",
        "           img_url = 'https:' + img_url\n",
        "        elif img_url[0] == '/' and img_url[1] != '/':\n",
        "           img_url = 'https:/' + img_url\n",
        "        else: return 0\n",
        "        img_name = img_url.split('/')[-1]\n",
        "        try:\n",
        "            urllib.request.urlretrieve(img_url, '/'.join(['images', str(page), img_name]))\n",
        "            img_resp = requests.get(img_url)\n",
        "            display(Image(img_resp.content))\n",
        "            print('Image downloaded:', img_url)\n",
        "\n",
        "        except:\n",
        "            print(f'couldn\\'t download {img_url}')\n",
        "\n",
        "\n",
        "# Extracting audio\n",
        "def extract_audio(soup, page):\n",
        "    audio = soup.find_all('audio')\n",
        "    i = 0\n",
        "    num = int(input('How many audios you want to download? '))\n",
        "    for aud in audio:\n",
        "        i += 1\n",
        "        if i == num + 1: break\n",
        "        aud_url = next(iter(aud))['src']\n",
        "        if aud_url[0] == aud_url[1] == '/':\n",
        "           aud_url = 'https:' + aud_url\n",
        "        elif aud_url[0] == '/' and aud_url[1] != '/':\n",
        "           aud_url = 'https:/' + aud_url\n",
        "        else: return 0\n",
        "        aud_name = aud_url.split('/')[-1]\n",
        "        try:\n",
        "            urllib.request.urlretrieve(aud_url, '/'.join(['audios', str(page), aud_name]))\n",
        "            print('Audio downloaded:', aud_url)\n",
        "        except:\n",
        "            print(f'couldn\\'t download {aud_url}')\n",
        "\n",
        "\n",
        "#  Depth first crawler function\n",
        "def depth_first_crawler(url, max_depth, opts, visited=set()):\n",
        "    if max_depth == 0 or url in visited:\n",
        "        return\n",
        "\n",
        "    if not os.path.exists('images/' + str(len(visited))):\n",
        "        os.makedirs('images/' + str(len(visited)))\n",
        "    if not os.path.exists('audios/' + str(len(visited))):\n",
        "        os.makedirs('audios/'+ str(len(visited)))\n",
        "    if not os.path.exists('texts/' + str(len(visited))):\n",
        "        os.makedirs('texts/' + str(len(visited)))\n",
        "    visited.add(url)\n",
        "    print(\"Visiting page:\", url)\n",
        "\n",
        "    response = requests.get(url)\n",
        "    content = response.text\n",
        "\n",
        "    soup = BeautifulSoup(content, 'html.parser')\n",
        "    links = soup.find_all('a')\n",
        "    if opts[0] == 1:\n",
        "      extract_text(soup, len(visited)-1)\n",
        "    if opts[1] == 1:\n",
        "      extract_images(soup, len(visited)-1)\n",
        "    if opts[2] == 1:\n",
        "      extract_audio(soup, len(visited)-1)\n",
        "\n",
        "    for link in links:\n",
        "        href = link.get('href')\n",
        "        if href is not None:\n",
        "            if href.startswith(\"http://\") or href.startswith(\"https://\"):\n",
        "              new_url = href\n",
        "            else:\n",
        "              new_url = url.rstrip('/') + '/' + href.lstrip('/')\n",
        "            depth_first_crawler(new_url, max_depth - 1, opts, visited)\n",
        "            break\n",
        "\n",
        "\n",
        "# Breadth first crawler function\n",
        "def breadth_first_crawler(start_url, max_pages, opts):\n",
        "    visited = set()\n",
        "    queue = deque([(start_url, 0)])\n",
        "    page = 1\n",
        "\n",
        "\n",
        "    while queue and page <= max_pages:\n",
        "        if not os.path.exists('images/' + str(page-1)):\n",
        "            os.makedirs('images/' + str(page-1))\n",
        "        if not os.path.exists('audios/' + str(page-1)):\n",
        "            os.makedirs('audios/'+ str(page-1))\n",
        "        if not os.path.exists('texts/' + str(page-1)):\n",
        "            os.makedirs('texts/' + str(page-1))\n",
        "\n",
        "        url, depth = queue.popleft()\n",
        "\n",
        "        if url in visited:\n",
        "            continue\n",
        "\n",
        "        visited.add(url)\n",
        "        print(\"Visiting page:\", url)\n",
        "\n",
        "        response = requests.get(url)\n",
        "        content = response.text\n",
        "\n",
        "        soup = BeautifulSoup(content, 'html.parser')\n",
        "        links = soup.find_all('a')\n",
        "        if opts[0] == 1:\n",
        "            extract_text(soup, page-1)\n",
        "        if opts[1] == 1:\n",
        "            extract_images(soup, page-1)\n",
        "        if opts[2] == 1:\n",
        "            extract_audio(soup, page-1)\n",
        "\n",
        "        for link in links:\n",
        "            href = link.get('href')\n",
        "            if href is None:\n",
        "                continue\n",
        "            if href.startswith(\"http://\") or href.startswith(\"https://\"):\n",
        "              new_url = href\n",
        "            else:\n",
        "              new_url = url.rstrip('/') + '/' + href.lstrip('/')\n",
        "\n",
        "            if new_url is not None and new_url not in visited:\n",
        "                queue.append((new_url, depth + 1))\n",
        "\n",
        "        page += 1\n",
        "\n",
        "\n",
        "# Interface\n",
        "def crawler():\n",
        "  print('Hello! I am a web-crawler! ')\n",
        "  if not os.path.exists('images'):\n",
        "      os.makedirs('images')\n",
        "  if not os.path.exists('audios'):\n",
        "      os.makedirs('audios')\n",
        "  if not os.path.exists('texts'):\n",
        "      os.makedirs('texts')\n",
        "  while 1:\n",
        "    inp = input('\\n I can do the following: \\n 1 - do depth first search \\n 2 - do breadth first search \\n x - exit \\n')\n",
        "    if inp == '1':\n",
        "      url = input('Enter start url: ')\n",
        "      depth = input('Enter the depth: ')\n",
        "      opts = []\n",
        "      opts.append(int(input('Do you want to see attributes? 0 - no, 1 - yes: ')))\n",
        "      opts.append(int(input('Do you want to see pictures? 0 - no, 1 - yes: ')))\n",
        "      opts.append(int(input('Do you want to see audio? 0 - no, 1 - yes: ')))\n",
        "      depth_first_crawler(url, int(depth), opts)\n",
        "      print('Finished')\n",
        "    elif inp == '2':\n",
        "      url = input('Enter start url: ')\n",
        "      depth = input('Enter the breadth: ')\n",
        "      opts = []\n",
        "      opts.append(int(input('Do you want to see attributes? 0 - no, 1 - yes: ')))\n",
        "      opts.append(int(input('Do you want to see pictures? 0 - no, 1 - yes: ')))\n",
        "      opts.append(int(input('Do you want to see audio? 0 - no, 1 - yes: ')))\n",
        "      breadth_first_crawler(url, int(depth), opts)\n",
        "      print('Finished')\n",
        "    elif inp == 'x':\n",
        "      break\n",
        "    else:\n",
        "      print('Error, try again')\n",
        "\n",
        "## Call this function to start crawling\n",
        "#crawler()"
      ],
      "metadata": {
        "id": "NV7DsSM7zapL"
      },
      "execution_count": 1,
      "outputs": []
    },
    {
      "cell_type": "markdown",
      "source": [
        "## Example of usage"
      ],
      "metadata": {
        "id": "cCInW20R84ot"
      }
    },
    {
      "cell_type": "code",
      "source": [
        "crawler()"
      ],
      "metadata": {
        "colab": {
          "base_uri": "https://localhost:8080/",
          "height": 1000
        },
        "id": "D2DBng22zWdV",
        "outputId": "3da9568a-34bb-469e-bdfc-2b23c09d7c8a"
      },
      "execution_count": 2,
      "outputs": [
        {
          "name": "stdout",
          "output_type": "stream",
          "text": [
            "Hello! I am a web-crawler! \n",
            "\n",
            " I can do the following: \n",
            " 1 - do depth first search \n",
            " 2 - do breadth first search \n",
            " x - exit \n",
            "1\n",
            "Enter start url: https://ru.wikipedia.org/wiki/%D0%A0%D0%BE%D1%81%D1%81%D0%B8%D1%8F\n",
            "Enter the depth: 3\n",
            "Do you want to see attributes? 0 - no, 1 - yes: 1\n",
            "Do you want to see pictures? 0 - no, 1 - yes: 1\n",
            "Do you want to see audio? 0 - no, 1 - yes: 1\n",
            "Visiting page: https://ru.wikipedia.org/wiki/%D0%A0%D0%BE%D1%81%D1%81%D0%B8%D1%8F\n",
            "How many words you want to see? 5\n",
            "Text: ['Россия', '—', 'Википедия', '66°', 'с.']\n",
            "How many pictures you want to download? 3\n"
          ]
        },
        {
          "output_type": "display_data",
          "data": {
            "image/png": "[encoded data removed]",
            "text/plain": [
              "<IPython.core.display.Image object>"
            ]
          },
          "metadata": {}
        },
        {
          "output_type": "stream",
          "name": "stdout",
          "text": [
            "Image downloaded: https://upload.wikimedia.org/wikipedia/commons/thumb/3/39/Font_Awesome_5_solid_volume-up.svg/18px-Font_Awesome_5_solid_volume-up.svg.png\n"
          ]
        },
        {
          "output_type": "display_data",
          "data": {
            "image/png": "[encoded data removed]",
            "text/plain": [
              "<IPython.core.display.Image object>"
            ]
          },
          "metadata": {}
        },
        {
          "output_type": "stream",
          "name": "stdout",
          "text": [
            "Image downloaded: https://upload.wikimedia.org/wikipedia/commons/thumb/f/f3/Flag_of_Russia.svg/160px-Flag_of_Russia.svg.png\n"
          ]
        },
        {
          "output_type": "display_data",
          "data": {
            "image/png": "[encoded data removed]",
            "text/plain": [
              "<IPython.core.display.Image object>"
            ]
          },
          "metadata": {}
        },
        {
          "name": "stdout",
          "output_type": "stream",
          "text": [
            "Image downloaded: https://upload.wikimedia.org/wikipedia/commons/thumb/f/f2/Coat_of_Arms_of_the_Russian_Federation.svg/90px-Coat_of_Arms_of_the_Russian_Federation.svg.png\n",
            "How many audios you want to download? 2\n",
            "Audio downloaded: https://upload.wikimedia.org/wikipedia/commons/f/fc/Russian_Anthem_chorus.ogg\n",
            "Audio downloaded: https://upload.wikimedia.org/wikipedia/commons/7/72/Ru-Russia_part_1_Intro.ogg\n",
            "Visiting page: https://ru.wikipedia.org/wiki/%D0%A0%D0%BE%D1%81%D1%81%D0%B8%D1%8F/wiki/%D0%A1%D0%BB%D1%83%D0%B6%D0%B5%D0%B1%D0%BD%D0%B0%D1%8F:Map/3/66/94/ru\n",
            "How many words you want to see? 20\n",
            "Text: ['Россия/wiki/Служебная:Map/3/66/94/ru', '—', 'Википедия', 'Россия/wiki/Служебная:Map/3/66/94/ru', 'Материал', 'из', 'Википедии', '—', 'свободной', 'энциклопедии', 'Перейти', 'к', 'навигации', 'Перейти', 'к', 'поиску', 'В', 'Википедии', 'нет', 'статьи']\n",
            "How many pictures you want to download? 2\n"
          ]
        },
        {
          "output_type": "display_data",
          "data": {
            "image/png": "[encoded data removed]",
            "text/plain": [
              "<IPython.core.display.Image object>"
            ]
          },
          "metadata": {}
        },
        {
          "output_type": "stream",
          "name": "stdout",
          "text": [
            "Image downloaded: https://upload.wikimedia.org/wikipedia/commons/thumb/e/ef/Wiki_letter_w_dashed.svg/100px-Wiki_letter_w_dashed.svg.png\n"
          ]
        },
        {
          "output_type": "display_data",
          "data": {
            "image/png": "[encoded data removed]",
            "text/plain": [
              "<IPython.core.display.Image object>"
            ]
          },
          "metadata": {}
        },
        {
          "name": "stdout",
          "output_type": "stream",
          "text": [
            "Image downloaded: https://ru.wikipedia.org/wiki/Special:CentralAutoLogin/start?type=1x1\n",
            "How many audios you want to download? 1\n",
            "Visiting page: https://ru.wikipedia.org/wiki/%D0%A0%D0%BE%D1%81%D1%81%D0%B8%D1%8F/wiki/%D0%A1%D0%BB%D1%83%D0%B6%D0%B5%D0%B1%D0%BD%D0%B0%D1%8F:Map/3/66/94/ru/#mw-head\n",
            "How many words you want to see? 7\n",
            "Text: ['Россия/wiki/Служебная:Map/3/66/94/ru/', '—', 'Википедия', 'Россия/wiki/Служебная:Map/3/66/94/ru/', 'Материал', 'из', 'Википедии']\n",
            "How many pictures you want to download? 1\n"
          ]
        },
        {
          "output_type": "display_data",
          "data": {
            "image/png": "[encoded data removed]",
            "text/plain": [
              "<IPython.core.display.Image object>"
            ]
          },
          "metadata": {}
        },
        {
          "name": "stdout",
          "output_type": "stream",
          "text": [
            "Image downloaded: https://upload.wikimedia.org/wikipedia/commons/thumb/e/ef/Wiki_letter_w_dashed.svg/100px-Wiki_letter_w_dashed.svg.png\n",
            "How many audios you want to download? 3\n",
            "Finished\n",
            "\n",
            " I can do the following: \n",
            " 1 - do depth first search \n",
            " 2 - do breadth first search \n",
            " x - exit \n",
            "x\n"
          ]
        }
      ]
    },
    {
      "cell_type": "code",
      "source": [],
      "metadata": {
        "id": "pSaYIh3CxRDy"
      },
      "execution_count": null,
      "outputs": []
    }
  ]
}